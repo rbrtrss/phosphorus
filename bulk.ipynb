{
 "cells": [
  {
   "cell_type": "code",
   "execution_count": 1,
   "metadata": {},
   "outputs": [],
   "source": [
    "import numpy as np\n",
    "from ase.calculators.dftb import Dftb\n",
    "from ase.io import read\n",
    "from ase.visualize import view\n",
    "from ase.build import make_supercell\n",
    "from ase.dft.kpoints import bandpath"
   ]
  },
  {
   "cell_type": "code",
   "execution_count": 2,
   "metadata": {},
   "outputs": [],
   "source": [
    "bp = read('A_oC8_64_f.P.cif')"
   ]
  },
  {
   "cell_type": "code",
   "execution_count": 3,
   "metadata": {},
   "outputs": [
    {
     "data": {
      "text/plain": [
       "<Popen: returncode: None args: ['/home/roberto/anaconda3/envs/dftb/bin/pytho...>"
      ]
     },
     "execution_count": 3,
     "metadata": {},
     "output_type": "execute_result"
    }
   ],
   "source": [
    "view(bp)"
   ]
  },
  {
   "cell_type": "code",
   "execution_count": 4,
   "metadata": {},
   "outputs": [],
   "source": [
    "opt_calc = Dftb(atoms=bp,\n",
    "            label='bulk',\n",
    "            kpts=(7,2,5),\n",
    "            Driver_='ConjugateGradient',\n",
    "            Driver_MaxForceComponent=1e-4,\n",
    "            Driver_MaxSteps=1000,\n",
    "            Hamiltonian_MaxAngularMomentum_='',\n",
    "            Hamiltonian_MaxAngularMomentum_P='p'\n",
    "            )"
   ]
  },
  {
   "cell_type": "code",
   "execution_count": 5,
   "metadata": {},
   "outputs": [],
   "source": [
    "bp.calc = opt_calc"
   ]
  },
  {
   "cell_type": "code",
   "execution_count": 6,
   "metadata": {},
   "outputs": [],
   "source": [
    "opt_calc.calculate(bp)"
   ]
  },
  {
   "cell_type": "code",
   "execution_count": 7,
   "metadata": {},
   "outputs": [],
   "source": [
    "final = read('geo_end.gen')"
   ]
  },
  {
   "cell_type": "code",
   "execution_count": 8,
   "metadata": {},
   "outputs": [
    {
     "data": {
      "text/plain": [
       "<Popen: returncode: None args: ['/home/roberto/anaconda3/envs/dftb/bin/pytho...>"
      ]
     },
     "execution_count": 8,
     "metadata": {},
     "output_type": "execute_result"
    }
   ],
   "source": [
    "view(final)"
   ]
  },
  {
   "cell_type": "code",
   "execution_count": 9,
   "metadata": {},
   "outputs": [],
   "source": [
    "big = make_supercell(final, np.identity(3)*3 )"
   ]
  },
  {
   "cell_type": "code",
   "execution_count": 10,
   "metadata": {},
   "outputs": [
    {
     "data": {
      "text/plain": [
       "<Popen: returncode: None args: ['/home/roberto/anaconda3/envs/dftb/bin/pytho...>"
      ]
     },
     "execution_count": 10,
     "metadata": {},
     "output_type": "execute_result"
    }
   ],
   "source": [
    "view(big)"
   ]
  },
  {
   "cell_type": "code",
   "execution_count": 115,
   "metadata": {},
   "outputs": [],
   "source": [
    "mono = read('l1_qe.in')"
   ]
  },
  {
   "cell_type": "code",
   "execution_count": 12,
   "metadata": {},
   "outputs": [
    {
     "data": {
      "text/plain": [
       "<Popen: returncode: None args: ['/home/roberto/anaconda3/envs/dftb/bin/pytho...>"
      ]
     },
     "execution_count": 12,
     "metadata": {},
     "output_type": "execute_result"
    }
   ],
   "source": [
    "view(mono)"
   ]
  },
  {
   "cell_type": "code",
   "execution_count": 119,
   "metadata": {},
   "outputs": [],
   "source": [
    "mono_calc = Dftb(atoms=mono,\n",
    "            label='mono',\n",
    "            kpts=(1,1,1),\n",
    "            Driver_='GeometryOptimization',\n",
    "            Driver_Optimizer_LBFGS_ = '',\n",
    "            # Driver_Optimizer_LBFGS_Memory = 40,\n",
    "            # Driver_Optimizer_Rational_DiagLimit = 1e-2,\n",
    "            Driver_GeometryOptimization_MovedAtoms='1:-1',\n",
    "            # Driver_Optimizer_MovedAtoms='1:-1',\n",
    "            # Driver_Optimizer_Memory=30,\n",
    "            Driver_GeometryOptimization_LatticeOpt='Yes',\n",
    "            # Driver_Optimizer_LatticeOpt='Yes',\n",
    "            Driver_GeometryOptimization_MaxForceComponent=1e-8,\n",
    "            # Driver_Optimizer_MaxForceComponent=1e-8,\n",
    "            Driver_GeometryOptimization_MaxSteps=1000,\n",
    "            # Driver_Optimizer_MaxSteps=1000,\n",
    "            Hamiltonian_MaxAngularMomentum_='',\n",
    "            Hamiltonian_MaxAngularMomentum_P='d'\n",
    "            )"
   ]
  },
  {
   "cell_type": "code",
   "execution_count": 120,
   "metadata": {},
   "outputs": [],
   "source": [
    "mono.calc = mono_calc"
   ]
  },
  {
   "cell_type": "code",
   "execution_count": 121,
   "metadata": {},
   "outputs": [
    {
     "name": "stderr",
     "output_type": "stream",
     "text": [
      "ERROR STOP \n"
     ]
    },
    {
     "ename": "CalculationFailed",
     "evalue": "Calculator \"dftb\" failed with command \"/home/roberto/anaconda3/envs/dftb/bin/dftb+ > mono.out\" failed in /home/roberto/phosphorus with error code 1",
     "output_type": "error",
     "traceback": [
      "\u001b[0;31m---------------------------------------------------------------------------\u001b[0m",
      "\u001b[0;31mCalculationFailed\u001b[0m                         Traceback (most recent call last)",
      "\u001b[1;32m/home/roberto/phosphorus/bulk.ipynb Cell 15'\u001b[0m in \u001b[0;36m<cell line: 1>\u001b[0;34m()\u001b[0m\n\u001b[0;32m----> <a href='vscode-notebook-cell:/home/roberto/phosphorus/bulk.ipynb#ch0000014?line=0'>1</a>\u001b[0m mono_calc\u001b[39m.\u001b[39;49mcalculate(mono)\n",
      "File \u001b[0;32m~/anaconda3/envs/dftb/lib/python3.10/site-packages/ase/calculators/calculator.py:938\u001b[0m, in \u001b[0;36mFileIOCalculator.calculate\u001b[0;34m(self, atoms, properties, system_changes)\u001b[0m\n\u001b[1;32m    <a href='file:///home/roberto/anaconda3/envs/dftb/lib/python3.10/site-packages/ase/calculators/calculator.py?line=933'>934</a>\u001b[0m     path \u001b[39m=\u001b[39m os\u001b[39m.\u001b[39mpath\u001b[39m.\u001b[39mabspath(\u001b[39mself\u001b[39m\u001b[39m.\u001b[39mdirectory)\n\u001b[1;32m    <a href='file:///home/roberto/anaconda3/envs/dftb/lib/python3.10/site-packages/ase/calculators/calculator.py?line=934'>935</a>\u001b[0m     msg \u001b[39m=\u001b[39m (\u001b[39m'\u001b[39m\u001b[39mCalculator \u001b[39m\u001b[39m\"\u001b[39m\u001b[39m{}\u001b[39;00m\u001b[39m\"\u001b[39m\u001b[39m failed with command \u001b[39m\u001b[39m\"\u001b[39m\u001b[39m{}\u001b[39;00m\u001b[39m\"\u001b[39m\u001b[39m failed in \u001b[39m\u001b[39m'\u001b[39m\n\u001b[1;32m    <a href='file:///home/roberto/anaconda3/envs/dftb/lib/python3.10/site-packages/ase/calculators/calculator.py?line=935'>936</a>\u001b[0m            \u001b[39m'\u001b[39m\u001b[39m{}\u001b[39;00m\u001b[39m with error code \u001b[39m\u001b[39m{}\u001b[39;00m\u001b[39m'\u001b[39m\u001b[39m.\u001b[39mformat(\u001b[39mself\u001b[39m\u001b[39m.\u001b[39mname, command,\n\u001b[1;32m    <a href='file:///home/roberto/anaconda3/envs/dftb/lib/python3.10/site-packages/ase/calculators/calculator.py?line=936'>937</a>\u001b[0m                                           path, errorcode))\n\u001b[0;32m--> <a href='file:///home/roberto/anaconda3/envs/dftb/lib/python3.10/site-packages/ase/calculators/calculator.py?line=937'>938</a>\u001b[0m     \u001b[39mraise\u001b[39;00m CalculationFailed(msg)\n\u001b[1;32m    <a href='file:///home/roberto/anaconda3/envs/dftb/lib/python3.10/site-packages/ase/calculators/calculator.py?line=939'>940</a>\u001b[0m \u001b[39mself\u001b[39m\u001b[39m.\u001b[39mread_results()\n",
      "\u001b[0;31mCalculationFailed\u001b[0m: Calculator \"dftb\" failed with command \"/home/roberto/anaconda3/envs/dftb/bin/dftb+ > mono.out\" failed in /home/roberto/phosphorus with error code 1"
     ]
    }
   ],
   "source": [
    "mono_calc.calculate(mono)"
   ]
  },
  {
   "cell_type": "code",
   "execution_count": 24,
   "metadata": {},
   "outputs": [
    {
     "data": {
      "text/plain": [
       "Cell([17.5052, 16.568, 22.1308])"
      ]
     },
     "execution_count": 24,
     "metadata": {},
     "output_type": "execute_result"
    }
   ],
   "source": [
    "mono.cell"
   ]
  },
  {
   "cell_type": "code",
   "execution_count": 25,
   "metadata": {},
   "outputs": [],
   "source": [
    "l1_path = bandpath('GXSYGS', mono.cell)"
   ]
  },
  {
   "cell_type": "code",
   "execution_count": 26,
   "metadata": {},
   "outputs": [
    {
     "data": {
      "text/plain": [
       "BandPath(path='GXSYGS', cell=[3x3], special_points={GRSTUXYZ}, kpts=[6x3])"
      ]
     },
     "execution_count": 26,
     "metadata": {},
     "output_type": "execute_result"
    }
   ],
   "source": [
    "l1_path"
   ]
  },
  {
   "cell_type": "code",
   "execution_count": null,
   "metadata": {},
   "outputs": [],
   "source": []
  }
 ],
 "metadata": {
  "interpreter": {
   "hash": "2104e57b9cd7eafa5e83621fe068abfd4f61bfd588e7ca7620fd2acf80cdc3ab"
  },
  "kernelspec": {
   "display_name": "Python 3.10.2 ('dftb')",
   "language": "python",
   "name": "python3"
  },
  "language_info": {
   "codemirror_mode": {
    "name": "ipython",
    "version": 3
   },
   "file_extension": ".py",
   "mimetype": "text/x-python",
   "name": "python",
   "nbconvert_exporter": "python",
   "pygments_lexer": "ipython3",
   "version": "3.10.2"
  },
  "orig_nbformat": 4
 },
 "nbformat": 4,
 "nbformat_minor": 2
}
